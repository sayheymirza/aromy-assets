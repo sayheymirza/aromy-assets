{
 "cells": [
  {
   "cell_type": "code",
   "execution_count": 1,
   "metadata": {},
   "outputs": [],
   "source": [
    "# import beautifulsoup4 to use\n",
    "from bs4 import BeautifulSoup\n",
    "import requests"
   ]
  },
  {
   "cell_type": "code",
   "execution_count": 2,
   "metadata": {},
   "outputs": [],
   "source": [
    "def crawleAndFetchAssets():\n",
    "    url = \"https://neal.fun/ambient-chaos/\"\n",
    "    images = set()\n",
    "    # fetch the content from url\n",
    "    page = requests.get(url)\n",
    "\n",
    "    # parse html using beautifulsoup\n",
    "    soup = BeautifulSoup(page.content, 'html.parser')\n",
    "\n",
    "    # find all the images in the page\n",
    "    imgs = soup.findAll('img')\n",
    "\n",
    "    # loop over all the images\n",
    "    for img in imgs:\n",
    "        # extract the link\n",
    "        img_url = img['src']\n",
    "\n",
    "        # replace '/ambient-chaos/icons' to ''\n",
    "        img_url = img_url.replace('/ambient-chaos/icons/', '')\n",
    "\n",
    "        # replace '.svg' to ''\n",
    "        img_url = img_url.replace('.svg', '')\n",
    "\n",
    "        # if image includes 'logo' then skip\n",
    "        if 'logo' in img_url:\n",
    "            continue\n",
    "\n",
    "        # add the image url to the set\n",
    "        images.add(img_url)\n",
    "\n",
    "    return images"
   ]
  },
  {
   "cell_type": "code",
   "execution_count": 3,
   "metadata": {},
   "outputs": [],
   "source": [
    "assets = crawleAndFetchAssets()"
   ]
  },
  {
   "cell_type": "code",
   "execution_count": 4,
   "metadata": {},
   "outputs": [],
   "source": [
    "def downloadSound(asset=\"\"):\n",
    "    # download image from https://neal.fun/ambient-chaos/sounds/$asset.mp3  to folder ./sounds\n",
    "    url = f\"https://neal.fun/ambient-chaos/sounds/{asset}.mp3\"\n",
    "\n",
    "    # get the content of the url\n",
    "    r = requests.get(url)\n",
    "\n",
    "    # write the content to file\n",
    "    with open(f\"./sounds/{asset}.mp3\", 'wb') as f:\n",
    "        f.write(r.content)"
   ]
  },
  {
   "cell_type": "code",
   "execution_count": 5,
   "metadata": {},
   "outputs": [],
   "source": [
    "# for asset in assets:\n",
    "#     downloadSound(asset)"
   ]
  },
  {
   "cell_type": "code",
   "execution_count": 6,
   "metadata": {},
   "outputs": [],
   "source": [
    "import openai\n",
    "import dotenv\n",
    "import os\n",
    "import threading"
   ]
  },
  {
   "cell_type": "code",
   "execution_count": 7,
   "metadata": {},
   "outputs": [
    {
     "data": {
      "text/plain": [
       "True"
      ]
     },
     "execution_count": 7,
     "metadata": {},
     "output_type": "execute_result"
    }
   ],
   "source": [
    "# use dotenv\n",
    "dotenv.load_dotenv()"
   ]
  },
  {
   "cell_type": "code",
   "execution_count": 8,
   "metadata": {},
   "outputs": [],
   "source": [
    "# set openai api key\n",
    "openai.api_key = os.getenv(\"OPENAI_API_KEY\")"
   ]
  },
  {
   "cell_type": "code",
   "execution_count": 9,
   "metadata": {},
   "outputs": [],
   "source": [
    "# use openai dall-e model to generate image with size 256x256 to folder ./images\n",
    "def generateImage(asset=\"\"):\n",
    "    # set the prompt\n",
    "    prompt = f\"imagine {asset}\"\n",
    "\n",
    "    # set the completion\n",
    "    response = openai.images.generate(\n",
    "        prompt=prompt,\n",
    "        model=\"dall-e-2\",\n",
    "        size=\"256x256\",\n",
    "        style=\"vivid\",\n",
    "        response_format=\"url\",\n",
    "        quality=\"standard\",\n",
    "        timeout=100000\n",
    "    )\n",
    "\n",
    "    # get the image url\n",
    "    img_url = response.data[0].url\n",
    "\n",
    "    # write the image to file\n",
    "    with open(f\"./images/{asset}.png\", 'wb') as f:\n",
    "        f.write(requests.get(img_url).content)\n",
    "\n",
    "    print(f\"Generated image for {asset}\")"
   ]
  },
  {
   "cell_type": "code",
   "execution_count": 10,
   "metadata": {},
   "outputs": [],
   "source": [
    "# start councurrent threads to generate images\n",
    "threads = []\n",
    "\n",
    "for asset in assets:\n",
    "    # if assets file not exists then generate image\n",
    "    if not os.path.exists(f\"./images/{asset}.png\"):\n",
    "        t = threading.Thread(target=generateImage, args=(asset,))\n",
    "        t.start()\n",
    "        threads.append(t)\n",
    "\n",
    "# wait for all threads to finish\n",
    "for t in threads:\n",
    "    t.join()"
   ]
  },
  {
   "cell_type": "code",
   "execution_count": 11,
   "metadata": {},
   "outputs": [],
   "source": [
    "import json"
   ]
  },
  {
   "cell_type": "code",
   "execution_count": 12,
   "metadata": {},
   "outputs": [],
   "source": [
    "# read app.json file\n",
    "app = {}\n",
    "\n",
    "with open('./app.json') as f:\n",
    "    app = json.load(f)"
   ]
  },
  {
   "cell_type": "code",
   "execution_count": 13,
   "metadata": {},
   "outputs": [],
   "source": [
    "# add the assets if image exists from set to list\n",
    "app['data']['sounds'] = []\n",
    "\n",
    "for asset in assets:\n",
    "    if os.path.exists(f\"./images/{asset}.png\"):\n",
    "        app['data']['sounds'].append(asset)"
   ]
  },
  {
   "cell_type": "code",
   "execution_count": 14,
   "metadata": {},
   "outputs": [],
   "source": [
    "# write app.json file\n",
    "with open('./app.json', 'w') as f:\n",
    "    f.write(json.dumps(app, indent=4))"
   ]
  }
 ],
 "metadata": {
  "kernelspec": {
   "display_name": "Python 3",
   "language": "python",
   "name": "python3"
  },
  "language_info": {
   "codemirror_mode": {
    "name": "ipython",
    "version": 3
   },
   "file_extension": ".py",
   "mimetype": "text/x-python",
   "name": "python",
   "nbconvert_exporter": "python",
   "pygments_lexer": "ipython3",
   "version": "3.12.1"
  }
 },
 "nbformat": 4,
 "nbformat_minor": 2
}
